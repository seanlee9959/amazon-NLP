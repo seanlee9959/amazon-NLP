{
 "cells": [
  {
   "cell_type": "code",
   "execution_count": 4,
   "id": "e945ff89-092b-4be8-bdf4-94a66e793b2c",
   "metadata": {},
   "outputs": [],
   "source": [
    "import pandas as pd\n",
    "import nltk"
   ]
  },
  {
   "cell_type": "code",
   "execution_count": 5,
   "id": "e5eee699-d31b-4254-a711-7a1e00e907c4",
   "metadata": {},
   "outputs": [
    {
     "data": {
      "text/plain": [
       "<bound method NDFrame.head of                         id       asins   brand  \\\n",
       "0     AVpe7AsMilAPnD_xQ78G  B00QJDU3KY  Amazon   \n",
       "1     AVpe7AsMilAPnD_xQ78G  B00QJDU3KY  Amazon   \n",
       "2     AVpe7AsMilAPnD_xQ78G  B00QJDU3KY  Amazon   \n",
       "3     AVpe7AsMilAPnD_xQ78G  B00QJDU3KY  Amazon   \n",
       "4     AVpe7AsMilAPnD_xQ78G  B00QJDU3KY  Amazon   \n",
       "...                    ...         ...     ...   \n",
       "1592  AVpfo9ukilAPnD_xfhuj  B00NO8JJZW  Amazon   \n",
       "1593  AVpfo9ukilAPnD_xfhuj  B00NO8JJZW  Amazon   \n",
       "1594  AVpfo9ukilAPnD_xfhuj  B00NO8JJZW  Amazon   \n",
       "1595  AVpfo9ukilAPnD_xfhuj  B00NO8JJZW  Amazon   \n",
       "1596  AVpfo9ukilAPnD_xfhuj  B00NO8JJZW  Amazon   \n",
       "\n",
       "                                             categories colors  \\\n",
       "0                            Amazon Devices,mazon.co.uk    NaN   \n",
       "1                            Amazon Devices,mazon.co.uk    NaN   \n",
       "2                            Amazon Devices,mazon.co.uk    NaN   \n",
       "3                            Amazon Devices,mazon.co.uk    NaN   \n",
       "4                            Amazon Devices,mazon.co.uk    NaN   \n",
       "...                                                 ...    ...   \n",
       "1592  Amazon Devices & Accessories,Amazon Device Acc...    NaN   \n",
       "1593  Amazon Devices & Accessories,Amazon Device Acc...    NaN   \n",
       "1594  Amazon Devices & Accessories,Amazon Device Acc...    NaN   \n",
       "1595  Amazon Devices & Accessories,Amazon Device Acc...    NaN   \n",
       "1596  Amazon Devices & Accessories,Amazon Device Acc...    NaN   \n",
       "\n",
       "                 dateAdded           dateUpdated                 dimension  \\\n",
       "0     2016-03-08T20:21:53Z  2017-07-18T23:52:58Z  169 mm x 117 mm x 9.1 mm   \n",
       "1     2016-03-08T20:21:53Z  2017-07-18T23:52:58Z  169 mm x 117 mm x 9.1 mm   \n",
       "2     2016-03-08T20:21:53Z  2017-07-18T23:52:58Z  169 mm x 117 mm x 9.1 mm   \n",
       "3     2016-03-08T20:21:53Z  2017-07-18T23:52:58Z  169 mm x 117 mm x 9.1 mm   \n",
       "4     2016-03-08T20:21:53Z  2017-07-18T23:52:58Z  169 mm x 117 mm x 9.1 mm   \n",
       "...                    ...                   ...                       ...   \n",
       "1592  2016-04-02T14:40:43Z  2017-08-13T08:28:46Z                       NaN   \n",
       "1593  2016-04-02T14:40:43Z  2017-08-13T08:28:46Z                       NaN   \n",
       "1594  2016-04-02T14:40:43Z  2017-08-13T08:28:46Z                       NaN   \n",
       "1595  2016-04-02T14:40:43Z  2017-08-13T08:28:46Z                       NaN   \n",
       "1596  2016-04-02T14:40:43Z  2017-08-13T08:28:46Z                       NaN   \n",
       "\n",
       "      ean                                               keys  ...  \\\n",
       "0     NaN                        kindlepaperwhite/b00qjdu3ky  ...   \n",
       "1     NaN                        kindlepaperwhite/b00qjdu3ky  ...   \n",
       "2     NaN                        kindlepaperwhite/b00qjdu3ky  ...   \n",
       "3     NaN                        kindlepaperwhite/b00qjdu3ky  ...   \n",
       "4     NaN                        kindlepaperwhite/b00qjdu3ky  ...   \n",
       "...   ...                                                ...  ...   \n",
       "1592  NaN  alexavoiceremoteforamazonfiretvfiretvstick/b00...  ...   \n",
       "1593  NaN  alexavoiceremoteforamazonfiretvfiretvstick/b00...  ...   \n",
       "1594  NaN  alexavoiceremoteforamazonfiretvfiretvstick/b00...  ...   \n",
       "1595  NaN  alexavoiceremoteforamazonfiretvfiretvstick/b00...  ...   \n",
       "1596  NaN  alexavoiceremoteforamazonfiretvfiretvstick/b00...  ...   \n",
       "\n",
       "     reviews.rating                                 reviews.sourceURLs  \\\n",
       "0               5.0  https://www.amazon.com/Kindle-Paperwhite-High-...   \n",
       "1               5.0  https://www.amazon.com/Kindle-Paperwhite-High-...   \n",
       "2               4.0  https://www.amazon.com/Kindle-Paperwhite-High-...   \n",
       "3               5.0  https://www.amazon.com/Kindle-Paperwhite-High-...   \n",
       "4               5.0  https://www.amazon.com/Kindle-Paperwhite-High-...   \n",
       "...             ...                                                ...   \n",
       "1592            3.0  https://www.amazon.com/Alexa-Voice-Remote-Amaz...   \n",
       "1593            1.0  https://www.amazon.com/Alexa-Voice-Remote-Amaz...   \n",
       "1594            1.0  https://www.amazon.com/Alexa-Voice-Remote-Amaz...   \n",
       "1595            3.0  https://www.amazon.com/Alexa-Voice-Remote-Amaz...   \n",
       "1596            1.0  https://www.amazon.com/Alexa-Voice-Remote-Amaz...   \n",
       "\n",
       "                                           reviews.text  \\\n",
       "0     I initially had trouble deciding between the p...   \n",
       "1     Allow me to preface this with a little history...   \n",
       "2     I am enjoying it so far. Great for reading. Ha...   \n",
       "3     I bought one of the first Paperwhites and have...   \n",
       "4     I have to say upfront - I don't like coroporat...   \n",
       "...                                                 ...   \n",
       "1592  This is not the same remote that I got for my ...   \n",
       "1593  I have had to change the batteries in this rem...   \n",
       "1594  Remote did not activate, nor did it connect to...   \n",
       "1595  It does the job but is super over priced. I fe...   \n",
       "1596  I ordered this item to replace the one that no...   \n",
       "\n",
       "                                          reviews.title reviews.userCity  \\\n",
       "0                        Paperwhite voyage, no regrets!              NaN   \n",
       "1                     One Simply Could Not Ask For More              NaN   \n",
       "2            Great for those that just want an e-reader              NaN   \n",
       "3                              Love / Hate relationship              NaN   \n",
       "4                                             I LOVE IT              NaN   \n",
       "...                                                 ...              ...   \n",
       "1592  I would be disappointed with myself if i produ...              NaN   \n",
       "1593                        Battery draining remote!!!!              NaN   \n",
       "1594      replacing an even worse remote. Waste of time              NaN   \n",
       "1595                                         Overpriced              NaN   \n",
       "1596  I am sending all of this crap back to amazon a...              NaN   \n",
       "\n",
       "     reviews.userProvince    reviews.username  sizes upc     weight  \n",
       "0                     NaN          Cristina M    NaN NaN  205 grams  \n",
       "1                     NaN               Ricky    NaN NaN  205 grams  \n",
       "2                     NaN       Tedd Gardiner    NaN NaN  205 grams  \n",
       "3                     NaN              Dougal    NaN NaN  205 grams  \n",
       "4                     NaN  Miljan David Tanic    NaN NaN  205 grams  \n",
       "...                   ...                 ...    ...  ..        ...  \n",
       "1592                  NaN     GregAmandawith4    NaN NaN   4 ounces  \n",
       "1593                  NaN     Amazon Customer    NaN NaN   4 ounces  \n",
       "1594                  NaN     Amazon Customer    NaN NaN   4 ounces  \n",
       "1595                  NaN          Meg Ashley    NaN NaN   4 ounces  \n",
       "1596                  NaN             DIANE K    NaN NaN   4 ounces  \n",
       "\n",
       "[1597 rows x 27 columns]>"
      ]
     },
     "execution_count": 5,
     "metadata": {},
     "output_type": "execute_result"
    }
   ],
   "source": [
    "df = pd.read_csv('data/7817_1.csv')\n",
    "df.head"
   ]
  },
  {
   "cell_type": "code",
   "execution_count": 7,
   "id": "4a817d62-d90b-472f-b0bb-46b7da747d0d",
   "metadata": {},
   "outputs": [
    {
     "data": {
      "text/plain": [
       "Index(['id', 'asins', 'brand', 'categories', 'colors', 'dateAdded',\n",
       "       'dateUpdated', 'dimension', 'ean', 'keys', 'manufacturer',\n",
       "       'manufacturerNumber', 'name', 'prices', 'reviews.date',\n",
       "       'reviews.doRecommend', 'reviews.numHelpful', 'reviews.rating',\n",
       "       'reviews.sourceURLs', 'reviews.text', 'reviews.title',\n",
       "       'reviews.userCity', 'reviews.userProvince', 'reviews.username', 'sizes',\n",
       "       'upc', 'weight'],\n",
       "      dtype='object')"
      ]
     },
     "execution_count": 7,
     "metadata": {},
     "output_type": "execute_result"
    }
   ],
   "source": [
    "df.columns"
   ]
  },
  {
   "cell_type": "code",
   "execution_count": null,
   "id": "c15e49a7-fb13-4d41-b5fa-35357ad8026d",
   "metadata": {},
   "outputs": [],
   "source": []
  }
 ],
 "metadata": {
  "kernelspec": {
   "display_name": "Python 3",
   "language": "python",
   "name": "python3"
  },
  "language_info": {
   "codemirror_mode": {
    "name": "ipython",
    "version": 3
   },
   "file_extension": ".py",
   "mimetype": "text/x-python",
   "name": "python",
   "nbconvert_exporter": "python",
   "pygments_lexer": "ipython3",
   "version": "3.8.8"
  }
 },
 "nbformat": 4,
 "nbformat_minor": 5
}
